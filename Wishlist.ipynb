{
 "cells": [
  {
   "cell_type": "code",
   "execution_count": null,
   "source": [
    "import re\r\n"
   ],
   "outputs": [],
   "metadata": {}
  },
  {
   "cell_type": "code",
   "execution_count": null,
   "source": [
    "with open('e:\\\\DeskTop\\wishlist.html', \"r\",encoding='utf-8') as f:  # 打开心愿单\r\n",
    "    data = f.read()  # 读取文件\r\n",
    "    print(data)\r\n"
   ],
   "outputs": [],
   "metadata": {}
  },
  {
   "cell_type": "code",
   "execution_count": null,
   "source": [
    "re1 = r'<a class=\"a-link-normal\"\\stitle=\"(.*?)\"'\r\n",
    "reResult1 = re.findall(re1, data)\r\n",
    "print(reResult1)\r\n",
    "\r\n"
   ],
   "outputs": [],
   "metadata": {}
  },
  {
   "cell_type": "code",
   "execution_count": null,
   "source": [
    "re2 = r'作者：(.*?)</s'\r\n",
    "reResult2 = re.findall(re2, data)\r\n",
    "print(reResult2)"
   ],
   "outputs": [],
   "metadata": {}
  }
 ],
 "metadata": {
  "orig_nbformat": 4,
  "language_info": {
   "name": "python",
   "version": "3.7.8",
   "mimetype": "text/x-python",
   "codemirror_mode": {
    "name": "ipython",
    "version": 3
   },
   "pygments_lexer": "ipython3",
   "nbconvert_exporter": "python",
   "file_extension": ".py"
  },
  "kernelspec": {
   "name": "python3",
   "display_name": "Python 3.7.8 64-bit ('datanalyzer': conda)"
  },
  "interpreter": {
   "hash": "396a6e0a11fb281d764086fae4729ab877c9f4c2e5cc9c53f1fd8cd71ca8e001"
  }
 },
 "nbformat": 4,
 "nbformat_minor": 2
}